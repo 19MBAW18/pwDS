{
 "cells": [
  {
   "cell_type": "markdown",
   "id": "2cc609f7-4f3d-48da-b8c4-570a996d6287",
   "metadata": {},
   "source": [
    "Q1. Create a vehicle class with an init method having instance variables as name_of_vehicle, max_speed\n",
    "and average_of_vehicle."
   ]
  },
  {
   "cell_type": "code",
   "execution_count": 6,
   "id": "bed9f18b-5baa-4fa9-b084-11572faccce4",
   "metadata": {},
   "outputs": [],
   "source": [
    "class vehicle:\n",
    "    \n",
    "    def __init__(self,name_of_vehicle, max_speed, average_of_vehicle):\n",
    "        self.name_of_vehicle = name_of_vehicle\n",
    "        self.max_speed = max_speed\n",
    "        self.average_of_vehicle = average_of_vehicle"
   ]
  },
  {
   "cell_type": "code",
   "execution_count": 7,
   "id": "f91a72f9-2491-47c6-b60f-10f188a5d690",
   "metadata": {},
   "outputs": [],
   "source": [
    "v = vehicle(\"Hyundai I20\", 200, 19)"
   ]
  },
  {
   "cell_type": "code",
   "execution_count": 8,
   "id": "2d4aee20-7967-415d-9de0-d823383324da",
   "metadata": {},
   "outputs": [
    {
     "name": "stdout",
     "output_type": "stream",
     "text": [
      "name_of_vehicle :  Hyundai I20\n",
      "max_speed :  200\n",
      "ave_of_vehicle :  19\n"
     ]
    }
   ],
   "source": [
    "print(\"name_of_vehicle : \", v.name_of_vehicle)\n",
    "print(\"max_speed : \", v.max_speed)\n",
    "print(\"ave_of_vehicle : \", v.average_of_vehicle)"
   ]
  },
  {
   "cell_type": "markdown",
   "id": "c1d1861a-ebd7-486d-875b-2ae0fd47fb23",
   "metadata": {},
   "source": [
    "Q2. Create a child class car from the vehicle class created in Que 1, which will inherit the vehicle class.\n",
    "Create a method named seating_capacity which takes capacity as an argument and returns the name of\n",
    "the vehicle and its seating capacity."
   ]
  },
  {
   "cell_type": "code",
   "execution_count": 16,
   "id": "8762573c-4809-409e-941b-ae76315f4119",
   "metadata": {},
   "outputs": [],
   "source": [
    "class vehicle:\n",
    "    \n",
    "    def __init__(self,name_of_vehicle, max_speed, average_of_vehicle):\n",
    "        self.name_of_vehicle = name_of_vehicle\n",
    "        self.max_speed = max_speed\n",
    "        self.average_of_vehicle = average_of_vehicle\n",
    "\n",
    "class car(vehicle):\n",
    "    def seating_capacity(self,capacity):\n",
    "        self.capacity = capacity\n",
    "        return self.name_of_vehicle , self.capacity"
   ]
  },
  {
   "cell_type": "code",
   "execution_count": 17,
   "id": "41a12bc6-4fa5-42d3-a870-78db1f0f9efb",
   "metadata": {},
   "outputs": [],
   "source": [
    "c = car(\"Hyundai I20\", 200, 19)"
   ]
  },
  {
   "cell_type": "code",
   "execution_count": 18,
   "id": "4a66bdba-de3b-4d9a-b959-ed2005266d98",
   "metadata": {},
   "outputs": [
    {
     "data": {
      "text/plain": [
       "('Hyundai I20', 5)"
      ]
     },
     "execution_count": 18,
     "metadata": {},
     "output_type": "execute_result"
    }
   ],
   "source": [
    "c.seating_capacity(5)"
   ]
  },
  {
   "cell_type": "markdown",
   "id": "166ffbf1-b388-46e1-8903-f5711cc67a0f",
   "metadata": {},
   "source": [
    "Q3. What is multiple inheritance? Write a python code to demonstrate multiple inheritance."
   ]
  },
  {
   "cell_type": "raw",
   "id": "71ed0b78-fbb7-4c24-a876-0cbe91592e52",
   "metadata": {},
   "source": [
    "Multiple inheritance is a class which can inherit methods and attributes from more than one Parent class."
   ]
  },
  {
   "cell_type": "code",
   "execution_count": 20,
   "id": "2d8e1911-b01d-4d24-aaee-25ac10ab83d8",
   "metadata": {},
   "outputs": [],
   "source": [
    "class Vehicle:\n",
    "    def __init__(self, name):\n",
    "        self.name = name\n",
    "\n",
    "    def get_name(self):\n",
    "        return self.name"
   ]
  },
  {
   "cell_type": "code",
   "execution_count": 21,
   "id": "130b5508-3fd5-49da-b59e-fa4a592d2f59",
   "metadata": {},
   "outputs": [],
   "source": [
    "class Engine:\n",
    "    def __init__(self, engine_type):\n",
    "        self.engine_type = engine_type\n",
    "\n",
    "    def get_engine_type(self):\n",
    "        return self.engine_type"
   ]
  },
  {
   "cell_type": "code",
   "execution_count": 30,
   "id": "079b0223-d5a9-42a4-ba3c-a62955ada98f",
   "metadata": {},
   "outputs": [],
   "source": [
    "class Car(Vehicle, Engine):\n",
    "    def __init__(self, name, engine_type, color):\n",
    "        Vehicle.__init__(self, name)\n",
    "        Engine.__init__(self, engine_type)\n",
    "        self.color = color\n",
    "\n",
    "    def get_car_info(self):\n",
    "        return self.get_name(), self.get_engine_type(), self.color"
   ]
  },
  {
   "cell_type": "code",
   "execution_count": 31,
   "id": "227881d1-7a4d-46e6-8b1c-18e731be05cd",
   "metadata": {},
   "outputs": [],
   "source": [
    "c = Car(\"Toyota-Vitz\", \"Auto\", \"Charcoal black\")"
   ]
  },
  {
   "cell_type": "code",
   "execution_count": 33,
   "id": "9cced16a-6414-4ef4-992f-d6d2fec647bd",
   "metadata": {},
   "outputs": [
    {
     "data": {
      "text/plain": [
       "('Toyota-Vitz', 'Auto', 'Charcoal black')"
      ]
     },
     "execution_count": 33,
     "metadata": {},
     "output_type": "execute_result"
    }
   ],
   "source": [
    "c.get_car_info()"
   ]
  },
  {
   "cell_type": "code",
   "execution_count": 36,
   "id": "ef129614-6c74-4f09-97ec-6294f549013c",
   "metadata": {},
   "outputs": [
    {
     "data": {
      "text/plain": [
       "'Toyota-Vitz'"
      ]
     },
     "execution_count": 36,
     "metadata": {},
     "output_type": "execute_result"
    }
   ],
   "source": [
    "c.get_name()"
   ]
  },
  {
   "cell_type": "markdown",
   "id": "128d0ae0-1f50-443b-8319-2ad3f71b9c66",
   "metadata": {},
   "source": [
    "Q4. What are getter and setter in python? Create a class and create a getter and a setter method in this\n",
    "class."
   ]
  },
  {
   "cell_type": "raw",
   "id": "f802f5b5-8fa5-44bb-911a-8b0b3630edb1",
   "metadata": {},
   "source": [
    "A 'getter' is a method that allows you to access an attribute in a given class and a 'setter' is a method that allows you to set or update the value of an attribute of a class."
   ]
  },
  {
   "cell_type": "code",
   "execution_count": 46,
   "id": "e82f2160-5d51-4f51-bdd0-b5ff68bac32b",
   "metadata": {},
   "outputs": [],
   "source": [
    "#using decorators\n",
    "\n",
    "class garment_shop :\n",
    "    \n",
    "    def __init__(self, garment_type, garment_price):\n",
    "        \n",
    "        self.__garment_price = garment_price\n",
    "        self.garment_type = garment_type\n",
    "        \n",
    "    @property\n",
    "    def garment_price_access(self):\n",
    "        return self.__garment_price\n",
    "    \n",
    "    @garment_price_access.setter\n",
    "    def garment_price_set(self, price):\n",
    "        if price <= 1200:\n",
    "            pass\n",
    "        else :\n",
    "            self.__garment_price = price\n",
    "         \n",
    "    @garment_price_access.getter\n",
    "    def get_garment_price(self):\n",
    "        return self.__garment_price"
   ]
  },
  {
   "cell_type": "code",
   "execution_count": 47,
   "id": "6f0e90eb-cca6-4ac0-a441-c61955f6e50b",
   "metadata": {},
   "outputs": [],
   "source": [
    "c = garment_shop(\"T-shirt\",1000)"
   ]
  },
  {
   "cell_type": "code",
   "execution_count": 48,
   "id": "fc740456-3aaa-421d-ab9a-d1ecd218812e",
   "metadata": {},
   "outputs": [
    {
     "data": {
      "text/plain": [
       "1000"
      ]
     },
     "execution_count": 48,
     "metadata": {},
     "output_type": "execute_result"
    }
   ],
   "source": [
    "c.garment_price_access"
   ]
  },
  {
   "cell_type": "code",
   "execution_count": 50,
   "id": "1727dcfa-ff8c-4176-83f5-5859cf0eac12",
   "metadata": {},
   "outputs": [
    {
     "data": {
      "text/plain": [
       "1500"
      ]
     },
     "execution_count": 50,
     "metadata": {},
     "output_type": "execute_result"
    }
   ],
   "source": [
    "c.garment_price_set = 1500\n",
    "c.garment_price_access"
   ]
  },
  {
   "cell_type": "code",
   "execution_count": 51,
   "id": "b87096cb-bc3b-4f90-be16-ee5487726ea6",
   "metadata": {},
   "outputs": [
    {
     "data": {
      "text/plain": [
       "1500"
      ]
     },
     "execution_count": 51,
     "metadata": {},
     "output_type": "execute_result"
    }
   ],
   "source": [
    "c.get_garment_price"
   ]
  },
  {
   "cell_type": "markdown",
   "id": "fdd35a22-f71a-43e8-8609-c5be93b8bac9",
   "metadata": {},
   "source": [
    "Q5.What is method overriding in python? Write a python code to demonstrate method overriding."
   ]
  },
  {
   "cell_type": "raw",
   "id": "09bcce1f-4801-4119-8099-945bd3e166e5",
   "metadata": {},
   "source": [
    "Method overriding is a feature in OOP which allows the subclass to override and modify the behavior of the inherited method. Method overriding cannot be performed in the same class, and overriding can only be executed when a child class is derived through inheritance."
   ]
  },
  {
   "cell_type": "code",
   "execution_count": 54,
   "id": "44297051-992e-47aa-8c6d-a647add1ec3c",
   "metadata": {},
   "outputs": [],
   "source": [
    "class Parent():\n",
    "    \n",
    "    def pet(self):\n",
    "        print(\"I have a dog named Tommy.\")\n",
    "        \n",
    "class Child(Parent):\n",
    "\n",
    "    def pet(self):\n",
    "        # Parent.pet(self)\n",
    "        print(\"I have a cat named lucy.\")"
   ]
  },
  {
   "cell_type": "code",
   "execution_count": 55,
   "id": "661e16e7-f032-4c6b-bb6f-e054acd08dd7",
   "metadata": {},
   "outputs": [
    {
     "name": "stdout",
     "output_type": "stream",
     "text": [
      "I have a cat named lucy.\n"
     ]
    }
   ],
   "source": [
    "obj = Child()\n",
    "obj.pet()"
   ]
  },
  {
   "cell_type": "code",
   "execution_count": null,
   "id": "d815bb4b-6c47-44dc-8e15-b32c8db1e96c",
   "metadata": {},
   "outputs": [],
   "source": []
  }
 ],
 "metadata": {
  "kernelspec": {
   "display_name": "Python 3 (ipykernel)",
   "language": "python",
   "name": "python3"
  },
  "language_info": {
   "codemirror_mode": {
    "name": "ipython",
    "version": 3
   },
   "file_extension": ".py",
   "mimetype": "text/x-python",
   "name": "python",
   "nbconvert_exporter": "python",
   "pygments_lexer": "ipython3",
   "version": "3.10.8"
  }
 },
 "nbformat": 4,
 "nbformat_minor": 5
}
