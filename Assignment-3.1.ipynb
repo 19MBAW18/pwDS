{
 "cells": [
  {
   "cell_type": "markdown",
   "id": "5072211e-c228-4126-ba65-6ab162f69d34",
   "metadata": {},
   "source": [
    "Q1. Create a python program to sort the given list of tuples based on integer value using a\n",
    "lambda function.\n",
    "[('Sachin Tendulkar', 34357), ('Ricky Ponting', 27483), ('Jack Kallis', 25534), ('Virat Kohli', 24936)]"
   ]
  },
  {
   "cell_type": "code",
   "execution_count": 5,
   "id": "a3940f51-dbbb-4524-97ea-b3042614bf79",
   "metadata": {},
   "outputs": [
    {
     "name": "stdout",
     "output_type": "stream",
     "text": [
      "\n",
      "Sorting the List of Tuples:\n",
      "[('Virat Kohli', 24936), ('Jack Kallis', 25534), ('Ricky Ponting', 27483), ('Sachin Tendulkar', 34357)]\n"
     ]
    }
   ],
   "source": [
    "player_runs = [('Sachin Tendulkar', 34357), ('Ricky Ponting', 27483), ('Jack Kallis', 25534), ('Virat Kohli', 24936)]\n",
    "player_runs.sort(key = lambda x: x[1])\n",
    "print(\"\\nSorting the List of Tuples:\")\n",
    "print(player_runs)"
   ]
  },
  {
   "cell_type": "markdown",
   "id": "20ad5455-ee01-47c9-b11f-b72e736d7ec4",
   "metadata": {},
   "source": [
    "Q2. Write a Python Program to find the squares of all the numbers in the given list of integers using\n",
    "lambda and map functions.\n",
    "\n",
    "[1, 2, 3, 4, 5, 6, 7, 8, 9, 10]"
   ]
  },
  {
   "cell_type": "code",
   "execution_count": 23,
   "id": "5deed4ac-4a69-494c-8b6a-1592075468dd",
   "metadata": {},
   "outputs": [
    {
     "name": "stdout",
     "output_type": "stream",
     "text": [
      "[1, 2, 3, 4, 5, 6, 7, 8, 9, 10]\n"
     ]
    },
    {
     "data": {
      "text/plain": [
       "[1, 4, 9, 16, 25, 36, 49, 64, 81, 100]"
      ]
     },
     "execution_count": 23,
     "metadata": {},
     "output_type": "execute_result"
    }
   ],
   "source": [
    "num = list(range(1,11))\n",
    "print(num)\n",
    "\n",
    "def fxn(x):\n",
    "    sqr = lambda x :x**2\n",
    "    x = list(map(sqr, num))\n",
    "    return x\n",
    "\n",
    "fxn(num)"
   ]
  },
  {
   "cell_type": "markdown",
   "id": "a827a104-167e-4872-bf4b-88013531ecf0",
   "metadata": {},
   "source": [
    "Q3. Write a python program to convert the given list of integers into a tuple of strings. Use map and\n",
    "lambda functions\n",
    "\n",
    "\n",
    "Given String: [1, 2, 3, 4, 5, 6, 7, 8, 9, 10]\n",
    "\n",
    "Expected output: ('1', '2', '3', '4', '5', '6', '7', '8', '9', '10')"
   ]
  },
  {
   "cell_type": "code",
   "execution_count": 26,
   "id": "4aefea7d-d4d6-4031-bf4d-6a8be0762496",
   "metadata": {},
   "outputs": [
    {
     "name": "stdout",
     "output_type": "stream",
     "text": [
      "[1, 2, 3, 4, 5, 6, 7, 8, 9, 10]\n"
     ]
    },
    {
     "data": {
      "text/plain": [
       "['1', '2', '3', '4', '5', '6', '7', '8', '9', '10']"
      ]
     },
     "execution_count": 26,
     "metadata": {},
     "output_type": "execute_result"
    }
   ],
   "source": [
    "num = list(range(1,11))\n",
    "print(num)\n",
    "\n",
    "def fxn(x):\n",
    "    int_2_str = lambda x : str(x)\n",
    "    x = list(map(int_2_str, num))\n",
    "    return x\n",
    "\n",
    "fxn(num)"
   ]
  },
  {
   "cell_type": "markdown",
   "id": "46cc3309-5eb6-4d8b-800b-b5bdee0c71ec",
   "metadata": {},
   "source": [
    "Q4. Write a python program using reduce function to compute the product of a list containing numbers\n",
    "from 1 to 25."
   ]
  },
  {
   "cell_type": "code",
   "execution_count": 31,
   "id": "5d4667e3-eacc-4010-becc-85e2a61e0f93",
   "metadata": {},
   "outputs": [
    {
     "name": "stdout",
     "output_type": "stream",
     "text": [
      "[1, 2, 3, 4, 5, 6, 7, 8, 9, 10, 11, 12, 13, 14, 15, 16, 17, 18, 19, 20, 21, 22, 23, 24, 25]\n",
      "15511210043330985984000000\n"
     ]
    }
   ],
   "source": [
    "from functools import reduce\n",
    "num = list(range(1,26))\n",
    "print(num)\n",
    "x = reduce(lambda x,y : x*y , num)\n",
    "print(x)"
   ]
  },
  {
   "cell_type": "markdown",
   "id": "38626932-29b2-42e9-b80e-6aa892d0587d",
   "metadata": {},
   "source": [
    "Q5. Write a python program to filter the numbers in a given list that are divisible by 2 and 3 using the\n",
    "filter function.\n",
    "\n",
    "[2, 3, 6, 9, 27, 60, 90, 120, 55, 46]"
   ]
  },
  {
   "cell_type": "code",
   "execution_count": 35,
   "id": "565c345c-c6b1-4d80-9c56-a9840003d7e3",
   "metadata": {},
   "outputs": [
    {
     "name": "stdout",
     "output_type": "stream",
     "text": [
      "[6, 60, 90, 120]\n"
     ]
    }
   ],
   "source": [
    "l = [2, 3, 6, 9, 27, 60, 90, 120, 55, 46]\n",
    "filt_list = list(filter(lambda x : x%2 ==0 and x%3 == 0, l))\n",
    "print(filt_list)"
   ]
  },
  {
   "cell_type": "markdown",
   "id": "37b11944-1579-4999-8eac-0c2547a8fb48",
   "metadata": {},
   "source": [
    "Q6. Write a python program to find palindromes in the given list of strings using lambda and filter\n",
    "function.\n",
    "\n",
    "['python', 'php', 'aba', 'radar', 'level']"
   ]
  },
  {
   "cell_type": "code",
   "execution_count": 43,
   "id": "5b79e3c5-a118-4927-a0b9-8090b7eb4b1c",
   "metadata": {},
   "outputs": [
    {
     "data": {
      "text/plain": [
       "'amasO'"
      ]
     },
     "execution_count": 43,
     "metadata": {},
     "output_type": "execute_result"
    }
   ],
   "source": [
    "# x = \"Osama\"\n",
    "# \"\".join(reversed(x))"
   ]
  },
  {
   "cell_type": "code",
   "execution_count": 47,
   "id": "511cb38d-5151-40b9-a84c-ce42ab20ed67",
   "metadata": {},
   "outputs": [
    {
     "name": "stdout",
     "output_type": "stream",
     "text": [
      "['php', 'aba', 'radar', 'level']\n"
     ]
    }
   ],
   "source": [
    "strings = ['python', 'php', 'aba', 'radar', 'level']\n",
    " \n",
    "palindromes = list(filter(lambda x: (x == \"\".join(reversed(x))), strings)) \n",
    "print(palindromes) "
   ]
  },
  {
   "cell_type": "code",
   "execution_count": null,
   "id": "87c64a11-d08a-4be7-8d0e-1ab76e9df3b9",
   "metadata": {},
   "outputs": [],
   "source": []
  }
 ],
 "metadata": {
  "kernelspec": {
   "display_name": "Python 3 (ipykernel)",
   "language": "python",
   "name": "python3"
  },
  "language_info": {
   "codemirror_mode": {
    "name": "ipython",
    "version": 3
   },
   "file_extension": ".py",
   "mimetype": "text/x-python",
   "name": "python",
   "nbconvert_exporter": "python",
   "pygments_lexer": "ipython3",
   "version": "3.10.8"
  }
 },
 "nbformat": 4,
 "nbformat_minor": 5
}
