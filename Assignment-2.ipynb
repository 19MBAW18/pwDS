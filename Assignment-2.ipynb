{
 "cells": [
  {
   "cell_type": "markdown",
   "id": "034ba4e6-bf44-489d-b581-88f5b18e8ad2",
   "metadata": {},
   "source": [
    "Q1. How do you comment code in Python? What are the different types of comments?"
   ]
  },
  {
   "cell_type": "raw",
   "id": "ee92e24f-5e09-41c1-892e-4bbc2e279faf",
   "metadata": {},
   "source": [
    "Ans- We can comment code line by line or a group of lines in python.\n",
    "\n",
    "There are 2 different types that we can use for commenting.\n",
    "1. using # (ctrl + /) in start of code line. \n",
    "2. using ''' ''' for multiple code lines selections.\n"
   ]
  },
  {
   "cell_type": "code",
   "execution_count": 1,
   "id": "c93fcdbf-8193-4b15-92e7-2e1b1c61d163",
   "metadata": {},
   "outputs": [
    {
     "name": "stdout",
     "output_type": "stream",
     "text": [
      "1\n",
      "4\n"
     ]
    }
   ],
   "source": [
    "l = [1,2,3,4]\n",
    "print(l[0])\n",
    "#print(l[1])\n",
    "#print(l[2])\n",
    "print(l[3])"
   ]
  },
  {
   "cell_type": "code",
   "execution_count": 2,
   "id": "44986c38-1a24-467b-8ed6-2b6a71ece7d1",
   "metadata": {},
   "outputs": [
    {
     "name": "stdout",
     "output_type": "stream",
     "text": [
      "4\n"
     ]
    }
   ],
   "source": [
    "l = [1,2,3,4]\n",
    "'''print(l[0])\n",
    "print(l[1])\n",
    "print(l[2])'''\n",
    "print(l[3])"
   ]
  },
  {
   "cell_type": "markdown",
   "id": "14a4d680-0768-4677-9427-3b20d735224e",
   "metadata": {},
   "source": [
    "Q2.What are variables in Python? How do you declare and assign values to variables?"
   ]
  },
  {
   "cell_type": "raw",
   "id": "8b44393f-7e4b-4730-9fd2-141ea4b1b9c1",
   "metadata": {},
   "source": [
    "Ans - Variables are the like the containers where some data values are stored. We can create a variable by assigning any value to it."
   ]
  },
  {
   "cell_type": "code",
   "execution_count": 3,
   "id": "f82f8005-8e6a-40f3-8db4-3b513e134087",
   "metadata": {},
   "outputs": [
    {
     "name": "stdout",
     "output_type": "stream",
     "text": [
      "Osama 25 34.5\n"
     ]
    }
   ],
   "source": [
    "#example of varible containing different datatypes\n",
    "name = \"Osama\"\n",
    "age  = 25\n",
    "marks = 34.5\n",
    "\n",
    "print(name, age ,marks)"
   ]
  },
  {
   "cell_type": "markdown",
   "id": "8b0cf2bb-fe56-4d74-9a62-85cb7fc405cc",
   "metadata": {},
   "source": [
    "Q3.How do you convert one data type to another in Python?"
   ]
  },
  {
   "cell_type": "raw",
   "id": "4bbc44f2-7be0-4628-800c-3f8f45d4e727",
   "metadata": {},
   "source": [
    "We do type cast to convert one data type to another."
   ]
  },
  {
   "cell_type": "code",
   "execution_count": 6,
   "id": "266d3d24-d516-465a-9f91-afd3ba533deb",
   "metadata": {},
   "outputs": [
    {
     "name": "stdout",
     "output_type": "stream",
     "text": [
      "a =  32 <class 'int'>\n",
      "int2str =  32 <class 'str'>\n",
      "int_float =  32.0 <class 'float'>\n"
     ]
    }
   ],
   "source": [
    "# example\n",
    "a= 32\n",
    "print('a = ', a,  type(a))\n",
    "\n",
    "int2str = str(a)\n",
    "print('int2str = ', int2str, type(int2str))\n",
    "\n",
    "int_float = float(a)\n",
    "print('int_float = ', int_float, type(int_float))"
   ]
  },
  {
   "cell_type": "markdown",
   "id": "fe5ca1f9-aa82-4bcc-ab8a-323f2004e0be",
   "metadata": {},
   "source": [
    "Q4. How do you write and execute a Python script from the command line?"
   ]
  },
  {
   "cell_type": "raw",
   "id": "a587838d-bb09-44a1-ba1f-731c34d10c7f",
   "metadata": {},
   "source": [
    "At first , we have to write an error free python script. Then we hit ctrl + enter to execute the command line.\n",
    "We can also use shift + enter to execute the command line and move forward to another command line."
   ]
  },
  {
   "cell_type": "markdown",
   "id": "3a874561-3861-4762-aaca-52ca6a2c5199",
   "metadata": {},
   "source": [
    "Q5. Given a list my_list = [1, 2, 3, 4, 5], write the code to slice the list and obtain the sub-list [2, 3]"
   ]
  },
  {
   "cell_type": "code",
   "execution_count": 13,
   "id": "d3dd17e3-1122-44d3-a8fd-38dbf1bc2545",
   "metadata": {},
   "outputs": [
    {
     "name": "stdout",
     "output_type": "stream",
     "text": [
      "[2, 3]\n"
     ]
    }
   ],
   "source": [
    "my_list = [1, 2, 3, 4, 5]\n",
    "\n",
    "sub_list = my_list[1:3]\n",
    "print(sub_list)"
   ]
  },
  {
   "cell_type": "markdown",
   "id": "4bd2ab4e-d8ae-4012-aa8f-d4224ba41163",
   "metadata": {},
   "source": [
    "Q6. What is a complex number in mathematics, and how is it represented in Python?"
   ]
  },
  {
   "cell_type": "raw",
   "id": "f6363925-243d-405a-8a9a-1dd3402c739d",
   "metadata": {},
   "source": [
    "Ans - \n",
    "\n",
    "According to maths, \n",
    "Combination (a+ib) of both the real number(a) and imaginary number(ib) is a complex number where value of i = √-1\n",
    "\n",
    "for example\n",
    "2+5i - Here 2 is a real number and 5i is an imaginary number.\n",
    "\n",
    "In python,\n",
    "Combination (a+jb) of both the real number(a) and imaginary number(jb) is a complex number where value of j = √-1\n",
    "\n",
    "for example\n",
    "2+5j - Here 2 is a real number and 5j is an imaginary number.\n"
   ]
  },
  {
   "cell_type": "code",
   "execution_count": 17,
   "id": "e8d65475-8261-49b8-abba-75160ac96f2d",
   "metadata": {},
   "outputs": [
    {
     "name": "stdout",
     "output_type": "stream",
     "text": [
      "<class 'complex'>\n",
      "2.0\n",
      "5.0\n"
     ]
    }
   ],
   "source": [
    "cmplx_num = 2+5j\n",
    "print(type(cmplx_num))\n",
    "\n",
    "print(cmplx_num.real)\n",
    "print(cmplx_num.imag)"
   ]
  },
  {
   "cell_type": "markdown",
   "id": "c57b660e-a127-4999-bac9-4156524ee2be",
   "metadata": {},
   "source": [
    "Q7. What is the correct way to declare a variable named age and assign the value 25 to it?"
   ]
  },
  {
   "cell_type": "code",
   "execution_count": 19,
   "id": "d6f6fe95-8fe9-4b94-9688-d241bc9ef122",
   "metadata": {},
   "outputs": [
    {
     "name": "stdin",
     "output_type": "stream",
     "text": [
      " 25\n"
     ]
    },
    {
     "name": "stdout",
     "output_type": "stream",
     "text": [
      "assgned value to age =  25\n"
     ]
    }
   ],
   "source": [
    "# The real way to assign a value\n",
    "\n",
    "age = int(input())\n",
    "\n",
    "print(\"assgned value to age = \", age)"
   ]
  },
  {
   "cell_type": "markdown",
   "id": "f7419d02-8edc-460e-9027-4149a331cf84",
   "metadata": {},
   "source": [
    "Q8. Declare a variable named price and assign the value 9.99 to it. What data type does this variable \n",
    "belong to?"
   ]
  },
  {
   "cell_type": "code",
   "execution_count": 21,
   "id": "ac3caaed-9d43-4928-996c-542feea2d78a",
   "metadata": {},
   "outputs": [
    {
     "name": "stdin",
     "output_type": "stream",
     "text": [
      " 9.99\n"
     ]
    },
    {
     "name": "stdout",
     "output_type": "stream",
     "text": [
      "data type of price is  <class 'str'>\n"
     ]
    },
    {
     "name": "stdin",
     "output_type": "stream",
     "text": [
      " 9.99\n"
     ]
    },
    {
     "name": "stdout",
     "output_type": "stream",
     "text": [
      "data type of price is  <class 'float'>\n"
     ]
    }
   ],
   "source": [
    "price = input()\n",
    "\n",
    "print('data type of price is ' , type(price))\n",
    "\n",
    "#since price should be in numbers, the correct way to do this is\n",
    "price = float(input())\n",
    "\n",
    "print('data type of price is ' , type(price))\n"
   ]
  },
  {
   "cell_type": "markdown",
   "id": "dc21bd29-1cf8-4f3b-865a-83f2d23df4fc",
   "metadata": {},
   "source": [
    "Q9. Create a variable named name and assign your full name to it as a string. How would you print the \n",
    "value of this variable?"
   ]
  },
  {
   "cell_type": "code",
   "execution_count": 26,
   "id": "7e0f67f8-3969-44cd-b615-1d87c6402568",
   "metadata": {},
   "outputs": [
    {
     "name": "stdin",
     "output_type": "stream",
     "text": [
      " Osama Bin Aftab\n"
     ]
    },
    {
     "name": "stdout",
     "output_type": "stream",
     "text": [
      "My full name is : Osama Bin Aftab\n"
     ]
    }
   ],
   "source": [
    "name = input( )\n",
    "\n",
    "print('My full name is :',name)"
   ]
  },
  {
   "cell_type": "markdown",
   "id": "ea9f68be-e29b-4aff-8081-186dda169235",
   "metadata": {},
   "source": [
    "Q10. Given the string \"Hello, World!\", extract the substring \"World\"."
   ]
  },
  {
   "cell_type": "code",
   "execution_count": 27,
   "id": "9099f1b9-c8be-4d53-a110-e3a5ba18197a",
   "metadata": {},
   "outputs": [
    {
     "data": {
      "text/plain": [
       "'World'"
      ]
     },
     "execution_count": 27,
     "metadata": {},
     "output_type": "execute_result"
    }
   ],
   "source": [
    "string = \"Hello, World!\"\n",
    "\n",
    "string[7:12]"
   ]
  },
  {
   "cell_type": "markdown",
   "id": "d6996ce1-75ab-4264-a781-0d5313177be9",
   "metadata": {},
   "source": [
    "Q11. Create a variable named \"is_student\" and assign it a boolean value indicating whether you are \n",
    "currently a student or not."
   ]
  },
  {
   "cell_type": "code",
   "execution_count": null,
   "id": "da2fbcca-eb9c-465f-a2b0-7f225850dfac",
   "metadata": {},
   "outputs": [],
   "source": [
    "a = input('Are you currently a student?/nIf yes then type \"yes\" otherwise \"no\" ')\n",
    "\n",
    "if a=='yes':\n",
    "    is_student = True\n",
    "else:\n",
    "    is_student = False\n",
    "\n",
    "print('is_student ', is_student, type(is_student))"
   ]
  },
  {
   "cell_type": "code",
   "execution_count": null,
   "id": "c6a70e48-7372-430e-a22e-348593025fc0",
   "metadata": {},
   "outputs": [],
   "source": []
  }
 ],
 "metadata": {
  "kernelspec": {
   "display_name": "Python 3 (ipykernel)",
   "language": "python",
   "name": "python3"
  },
  "language_info": {
   "codemirror_mode": {
    "name": "ipython",
    "version": 3
   },
   "file_extension": ".py",
   "mimetype": "text/x-python",
   "name": "python",
   "nbconvert_exporter": "python",
   "pygments_lexer": "ipython3",
   "version": "3.10.8"
  }
 },
 "nbformat": 4,
 "nbformat_minor": 5
}
