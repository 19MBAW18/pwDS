{
 "cells": [
  {
   "cell_type": "markdown",
   "id": "f304b8d5-cfcf-4163-a670-298619c72d6d",
   "metadata": {},
   "source": [
    "Q1. Create one variable containing following type of data:\n",
    "(i) string\n",
    "(ii) list\n",
    "(iii) float\n",
    "(iv) tuple"
   ]
  },
  {
   "cell_type": "code",
   "execution_count": 4,
   "id": "d2c7e46f-f62b-43b6-8244-508971728e5c",
   "metadata": {},
   "outputs": [],
   "source": [
    "# i. \n",
    "a = \"Osama\"\n",
    "\n",
    "# ii.\n",
    "b = [1,2,3,a, 3.5, False, 8-5j,'INDIA']\n",
    "\n",
    "# iii.\n",
    "c = 8.2\n",
    "\n",
    "# iv.\n",
    "d = (a, c, \"PW\")\n",
    "\n"
   ]
  },
  {
   "cell_type": "raw",
   "id": "ca336e88-2712-437e-877e-ecf8ec8e1a5b",
   "metadata": {},
   "source": [
    "#print (a,type(a),b,type(b),c,type(c),d,type(d))"
   ]
  },
  {
   "cell_type": "markdown",
   "id": "caa25a57-6ec6-4511-b7ac-d86547781608",
   "metadata": {},
   "source": [
    "Q2. Given are some following variables containing data:\n",
    "(i) var1 = ‘ ‘\n",
    "(ii) var2 = ‘[ DS , ML , Python]’\n",
    "(iii) var3 = [ ‘DS’ , ’ML’ , ‘Python’ ]\n",
    "(iv) var4 = 1.\n",
    "What will be the data type of the above given variable."
   ]
  },
  {
   "cell_type": "raw",
   "id": "5f03c8ff-6b79-4777-a244-f47484a83b9d",
   "metadata": {},
   "source": [
    "(i) var1 is string\n",
    "(ii) var2 is string\n",
    "(iii) var3 is list\n",
    "(iv) var4 is float\n"
   ]
  },
  {
   "cell_type": "markdown",
   "id": "333c2a3f-5d82-4726-94eb-648ea0639cdc",
   "metadata": {},
   "source": [
    "Q3. Explain the use of the following operators using an example:\n",
    "(i) /\n",
    "(ii) %\n",
    "(iii) //\n",
    "(iv) **"
   ]
  },
  {
   "cell_type": "code",
   "execution_count": 31,
   "id": "78f75fc6-2cb4-482c-aa73-6826bfca6b27",
   "metadata": {},
   "outputs": [
    {
     "name": "stdout",
     "output_type": "stream",
     "text": [
      "17.5\n",
      "1\n",
      "17\n",
      "1225\n"
     ]
    }
   ],
   "source": [
    "#      / is used for division\n",
    "a =35\n",
    "b = 2\n",
    "print(a/b)\n",
    "\n",
    "#      % is known as modulus and is used for getting remainder\n",
    "print(a%b)\n",
    "\n",
    "#     // is known as floor division \n",
    "print(a//b)\n",
    "\n",
    "#     ** is used as power\n",
    "print(a**b)"
   ]
  },
  {
   "cell_type": "markdown",
   "id": "84f6c346-c866-429d-a218-6e07799f2486",
   "metadata": {},
   "source": [
    "Q4. Create a list of length 10 of your choice containing multiple types of data. Using for loop print the\n",
    "element and its data type."
   ]
  },
  {
   "cell_type": "code",
   "execution_count": 7,
   "id": "69eb713b-6eb2-4621-804b-72bf8992ac0a",
   "metadata": {},
   "outputs": [
    {
     "name": "stdout",
     "output_type": "stream",
     "text": [
      "2 <class 'int'>\n",
      "3 <class 'int'>\n",
      "4 <class 'int'>\n",
      "5 <class 'int'>\n",
      "6 <class 'int'>\n",
      "osama <class 'str'>\n",
      "patna <class 'str'>\n",
      "23.45 <class 'float'>\n",
      "True <class 'bool'>\n",
      "(2+3j) <class 'complex'>\n",
      "Loop is completed\n"
     ]
    }
   ],
   "source": [
    "l = [2,3,4,5,6,'osama', 'patna' , 23.45,True , 2+3j]\n",
    "\n",
    "for i in l:\n",
    "    print(i, type(i))\n",
    "else:\n",
    "    print('Loop is completed')"
   ]
  },
  {
   "cell_type": "markdown",
   "id": "db4da903-a6eb-4563-94a7-0da921af4dc6",
   "metadata": {},
   "source": [
    "Q5. Using a while loop, verify if the number A is purely divisible by number B and if so then how many\n",
    "times it can be divisible."
   ]
  },
  {
   "cell_type": "code",
   "execution_count": 38,
   "id": "3f95388e-cad5-4225-805d-0edaa496d284",
   "metadata": {},
   "outputs": [
    {
     "name": "stdin",
     "output_type": "stream",
     "text": [
      " 100\n",
      " 20\n"
     ]
    },
    {
     "name": "stdout",
     "output_type": "stream",
     "text": [
      "A is purely divisible by B and the number of times A can be divisible by B is  5\n"
     ]
    }
   ],
   "source": [
    "A = int(input())\n",
    "B = int(input())\n",
    "C = A//B\n",
    "D = A%B\n",
    "e= 0\n",
    "while D ==0:\n",
    "    print('A is purely divisible by B and the number of times A can be divisible by B is ' , C)\n",
    "    e+=1\n",
    "    if e==1:\n",
    "        break\n",
    "else:\n",
    "    print('A is not purely divisible by B and the number of times A can be divisible by B is ' , C)\n",
    "\n",
    "    \n",
    "    \n"
   ]
  },
  {
   "cell_type": "markdown",
   "id": "2fb7c9e1-3a2b-4b12-9cc3-8a6daa5dbef1",
   "metadata": {},
   "source": [
    "Q6. Create a list containing 25 int type data. Using for loop and if-else condition print if the element is\n",
    "divisible by 3 or not."
   ]
  },
  {
   "cell_type": "code",
   "execution_count": 15,
   "id": "5b48a854-9084-41f0-a7ae-318c42b20d0a",
   "metadata": {},
   "outputs": [
    {
     "name": "stdout",
     "output_type": "stream",
     "text": [
      "10 is not divisible by 3\n",
      "11 is not divisible by 3\n",
      "12 is not divisible by 3\n",
      "13 is not divisible by 3\n",
      "14 is not divisible by 3\n",
      "15 is not divisible by 3\n",
      "16 is not divisible by 3\n",
      "17 is not divisible by 3\n",
      "18 is not divisible by 3\n",
      "19 is not divisible by 3\n",
      "20 is not divisible by 3\n",
      "21 is not divisible by 3\n",
      "22 is not divisible by 3\n",
      "23 is not divisible by 3\n",
      "24 is not divisible by 3\n",
      "25 is not divisible by 3\n",
      "26 is not divisible by 3\n",
      "27 is not divisible by 3\n",
      "28 is not divisible by 3\n",
      "29 is not divisible by 3\n",
      "30 is not divisible by 3\n",
      "31 is not divisible by 3\n",
      "32 is not divisible by 3\n",
      "33 is not divisible by 3\n",
      "34 is not divisible by 3\n"
     ]
    }
   ],
   "source": [
    "l =list(range(10,35))\n",
    "\n",
    "for i in l:\n",
    "    if (i//3 ==0):\n",
    "        print(i , 'is divisible by 3')\n",
    "        i+=1\n",
    "    else :\n",
    "        print(i , 'is not divisible by 3')\n",
    "        i+=1\n",
    "    "
   ]
  },
  {
   "cell_type": "markdown",
   "id": "ec92c670-5d6b-426a-9d43-f707a6ab094a",
   "metadata": {},
   "source": [
    "Q7. What do you understand about mutable and immutable data types? Give examples for both showing\n",
    "this property."
   ]
  },
  {
   "cell_type": "code",
   "execution_count": 18,
   "id": "02f34053-d27f-4b85-b390-c7c04b2a07de",
   "metadata": {},
   "outputs": [
    {
     "name": "stdout",
     "output_type": "stream",
     "text": [
      "<class 'list'>\n",
      "[1, 'pw', 'Ind', 5.2]\n"
     ]
    }
   ],
   "source": [
    "#Mutable date types are those container objects in which we can change their contained data. ex - list.\n",
    "a = [1,2,'Ind', 5.2]\n",
    "print(type(a))\n",
    "#here a[1] contains 2. we can change/delete the value from that position in a. \n",
    "a[1] = 'pw'\n",
    "print(a)"
   ]
  },
  {
   "cell_type": "code",
   "execution_count": 19,
   "id": "ac32d996-3549-4188-9a54-b370e3310845",
   "metadata": {},
   "outputs": [
    {
     "ename": "TypeError",
     "evalue": "'tuple' object does not support item assignment",
     "output_type": "error",
     "traceback": [
      "\u001b[0;31m---------------------------------------------------------------------------\u001b[0m",
      "\u001b[0;31mTypeError\u001b[0m                                 Traceback (most recent call last)",
      "Cell \u001b[0;32mIn[19], line 4\u001b[0m\n\u001b[1;32m      2\u001b[0m b \u001b[38;5;241m=\u001b[39m (\u001b[38;5;241m1\u001b[39m,\u001b[38;5;241m2\u001b[39m,\u001b[38;5;124m'\u001b[39m\u001b[38;5;124mInd\u001b[39m\u001b[38;5;124m'\u001b[39m, \u001b[38;5;241m5.2\u001b[39m)\n\u001b[1;32m      3\u001b[0m \u001b[38;5;66;03m#here also b[1] is 2 but we cannot assign or delete at the postion\u001b[39;00m\n\u001b[0;32m----> 4\u001b[0m \u001b[43mb\u001b[49m\u001b[43m[\u001b[49m\u001b[38;5;241;43m1\u001b[39;49m\u001b[43m]\u001b[49m \u001b[38;5;241m=\u001b[39m\u001b[38;5;124m'\u001b[39m\u001b[38;5;124mpw\u001b[39m\u001b[38;5;124m'\u001b[39m\n",
      "\u001b[0;31mTypeError\u001b[0m: 'tuple' object does not support item assignment"
     ]
    }
   ],
   "source": [
    "#Immutable data  types are those container objects in which we cannot change their contained data. ex- tuple.\n",
    "b = (1,2,'Ind', 5.2)\n",
    "#here also b[1] is 2 but we cannot assign or delete at the postion\n",
    "b[1] ='pw'"
   ]
  }
 ],
 "metadata": {
  "kernelspec": {
   "display_name": "Python 3 (ipykernel)",
   "language": "python",
   "name": "python3"
  },
  "language_info": {
   "codemirror_mode": {
    "name": "ipython",
    "version": 3
   },
   "file_extension": ".py",
   "mimetype": "text/x-python",
   "name": "python",
   "nbconvert_exporter": "python",
   "pygments_lexer": "ipython3",
   "version": "3.10.8"
  }
 },
 "nbformat": 4,
 "nbformat_minor": 5
}
