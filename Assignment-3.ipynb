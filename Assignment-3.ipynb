{
 "cells": [
  {
   "cell_type": "markdown",
   "id": "2bcbe998-599f-4af7-9cfb-5efb2d68c291",
   "metadata": {},
   "source": [
    " Q1. Which keyword is used to create a function? Create a function to return a list of odd numbers in the\n",
    "range of 1 to 25."
   ]
  },
  {
   "cell_type": "code",
   "execution_count": 1,
   "id": "3737c809-0bd7-4c95-967f-333bf785ea3c",
   "metadata": {},
   "outputs": [
    {
     "data": {
      "text/plain": [
       "[1, 3, 5, 7, 9, 11, 13, 15, 17, 19, 21, 23, 25]"
      ]
     },
     "execution_count": 1,
     "metadata": {},
     "output_type": "execute_result"
    }
   ],
   "source": [
    "#Ans - 'def' keyword is used to create a function.\n",
    "\n",
    "#Create a function to return a list of odd numbers in the range of 1 to 25.\n",
    "\n",
    "l1 = []\n",
    "def odd_list():\n",
    "    for i in range(1,26):\n",
    "        if i%2 != 0:\n",
    "            l1.append(i)\n",
    "    return l1\n",
    "\n",
    "odd_list()"
   ]
  },
  {
   "cell_type": "markdown",
   "id": "4547d5d0-c6fa-4b9b-8366-9034d0424dd7",
   "metadata": {},
   "source": [
    "Q2. Why *args and **kwargs is used in some functions? Create a function each for *args and **kwargs\n",
    "to demonstrate their use."
   ]
  },
  {
   "cell_type": "code",
   "execution_count": 7,
   "id": "29155202-08f4-47cb-9829-aebb8f7a9607",
   "metadata": {},
   "outputs": [
    {
     "name": "stdout",
     "output_type": "stream",
     "text": [
      "6\n",
      "with *args  6\n",
      "with **kwargs  6\n"
     ]
    }
   ],
   "source": [
    "# Ans- While defining a function, we use arguments. We use *args and **kwargs which allow us to pass a varying number of positional arguments.\n",
    "\n",
    "# without using *args and **kwargs\n",
    "\n",
    "def sum1(a):\n",
    "    result = 0\n",
    "    for i in a:\n",
    "        result += i\n",
    "    return result\n",
    "\n",
    "a = [1, 2, 3]\n",
    "print(sum1(a))\n",
    "\n",
    "# Using *args\n",
    "\n",
    "def sum(*args):\n",
    "    result = 0\n",
    "    for i in args:\n",
    "        result += i\n",
    "    return result\n",
    "\n",
    "print('with *args ',sum(1, 2, 3))\n",
    "\n",
    "# Using **kwargs - keyword arguments\n",
    "def sum2(a , b = 2 ,c = 3):\n",
    "    d = a+b+c\n",
    "    return d\n",
    "\n",
    "print('with **kwargs ', sum2(1))\n",
    "    \n"
   ]
  },
  {
   "cell_type": "markdown",
   "id": "18403d10-ecae-4211-9aff-706dc417b701",
   "metadata": {},
   "source": [
    "Q3. What is an iterator in python? Name the method used to initialise the iterator object and the method\n",
    "used for iteration. Use these methods to print the first five elements of the given list [2, 4, 6, 8, 10, 12, 14,\n",
    "16, 18, 20]."
   ]
  },
  {
   "cell_type": "code",
   "execution_count": 15,
   "id": "972185b3-bf64-4f8f-a41e-36630475047d",
   "metadata": {},
   "outputs": [
    {
     "name": "stdout",
     "output_type": "stream",
     "text": [
      "Using for loop  [2, 4, 6, 8, 10]\n",
      "2\n",
      "4\n",
      "6\n",
      "8\n",
      "10\n"
     ]
    }
   ],
   "source": [
    "# Ans - Iterator is an object which is used to iterate over iterable objects like lists, tuples, dicts, and sets.\n",
    "# The methods used to initialise the iterator objects is \"iter()\" and the method used for iteration is \"next()\" . \n",
    "\n",
    "# by using 'for loop' - inbuilt iterator\n",
    "l = [2, 4, 6, 8, 10, 12, 14,16, 18, 20]\n",
    "l1 = []\n",
    "for i in l:\n",
    "    if len(l1)<= 4:\n",
    "        l1.append(i)\n",
    "print('Using for loop ',l1)\n",
    "\n",
    "# by using iter() and next()\n",
    "l = [2, 4, 6, 8, 10, 12, 14,16, 18, 20]\n",
    "l1 = iter(l)\n",
    "\n",
    "print(next(l1))\n",
    "print(next(l1))\n",
    "print(next(l1))\n",
    "print(next(l1))\n",
    "print(next(l1))\n"
   ]
  },
  {
   "cell_type": "markdown",
   "id": "1c4dd5e7-a211-40ea-9cc5-862196f50a20",
   "metadata": {},
   "source": [
    "Q4. What is a generator function in python? Why yield keyword is used? Give an example of a generator\n",
    "function."
   ]
  },
  {
   "cell_type": "code",
   "execution_count": 18,
   "id": "d89ac940-68ff-4762-9b9c-3f2608219f89",
   "metadata": {},
   "outputs": [
    {
     "name": "stdout",
     "output_type": "stream",
     "text": [
      "1\n",
      "2\n",
      "3\n",
      "4\n",
      "5\n"
     ]
    }
   ],
   "source": [
    "# Ans - Generator function is a function which consists yield keyword instead of return. Whenever it needs to generate a value, it does so with the yield keyword . \n",
    "# If the body of a def contains yield, the function automatically becomes a generator function. \n",
    "\n",
    "def count_test(n):\n",
    "    count = 1\n",
    "    while count <= n :\n",
    "        yield count\n",
    "        count = count + 1\n",
    "c = count_test(5)\n",
    "#print(c)\n",
    "for i in c :\n",
    "    print(i)"
   ]
  },
  {
   "cell_type": "markdown",
   "id": "67af802d-5ce7-4597-a473-9dd2b7a10212",
   "metadata": {},
   "source": [
    "Q5. Create a generator function for prime numbers less than 1000. Use the next() method to print the\n",
    "first 20 prime numbers."
   ]
  },
  {
   "cell_type": "code",
   "execution_count": 44,
   "id": "0b2ccc94-81bb-4e12-b368-8c0af0512fb7",
   "metadata": {},
   "outputs": [
    {
     "name": "stdout",
     "output_type": "stream",
     "text": [
      "1\n",
      "2\n",
      "3\n",
      "4\n",
      "5\n",
      "6\n",
      "7\n",
      "8\n",
      "9\n",
      "10\n",
      "11\n",
      "12\n",
      "13\n",
      "14\n",
      "15\n",
      "16\n",
      "17\n",
      "18\n",
      "19\n",
      "20\n"
     ]
    }
   ],
   "source": [
    "def prime_num(n):\n",
    "    count = 1\n",
    "    while count <=n:\n",
    "        yield count\n",
    "        count += 1\n",
    "c = prime_num(20)\n",
    "for i in c:\n",
    "    print(i)"
   ]
  },
  {
   "cell_type": "markdown",
   "id": "eabdc8a4-6cf5-4219-8267-80548f0864b1",
   "metadata": {},
   "source": [
    "Q6. Write a python program to print the first 10 Fibonacci numbers using a while loop."
   ]
  },
  {
   "cell_type": "code",
   "execution_count": 19,
   "id": "674b16ed-6699-4063-a960-c86da22773a6",
   "metadata": {},
   "outputs": [
    {
     "name": "stdout",
     "output_type": "stream",
     "text": [
      "0\n",
      "1\n",
      "1\n",
      "2\n",
      "3\n",
      "5\n",
      "8\n",
      "13\n",
      "21\n",
      "34\n"
     ]
    }
   ],
   "source": [
    "def fibonacci(n):\n",
    "    \"\"\" This function will print Fibonacci numbers\"\"\"\n",
    "    a, b = 0, 1\n",
    "    count = 0\n",
    "    while count < n:\n",
    "        print(a)\n",
    "        a, b = b, a + b\n",
    "        count += 1\n",
    "\n",
    "fibonacci(10)"
   ]
  },
  {
   "cell_type": "markdown",
   "id": "eb58ab36-5db3-4f30-a1a5-e43158b5bc9a",
   "metadata": {},
   "source": [
    "Q7. Write a List Comprehension to iterate through the given string: ‘pwskills’.\n",
    "Expected output: ['p', 'w', 's', 'k', 'i', 'l', 'l', 's']"
   ]
  },
  {
   "cell_type": "code",
   "execution_count": 23,
   "id": "4a408be1-5bbe-4e0e-a6a1-6b82ad5b8d5c",
   "metadata": {},
   "outputs": [
    {
     "name": "stdout",
     "output_type": "stream",
     "text": [
      "['p', 'w', 's', 'k', 'i', 'l', 'l', 's']\n"
     ]
    }
   ],
   "source": [
    "a = 'pwskills'\n",
    "output = [char for char in a]\n",
    "print(output)\n"
   ]
  },
  {
   "cell_type": "code",
   "execution_count": 22,
   "id": "5e9c5068-312e-422d-a4b7-87e7378d35d0",
   "metadata": {},
   "outputs": [],
   "source": [
    "# a = 'pwskills'\n",
    "# l = []\n",
    "# for i in a:\n",
    "#     l.append(i)\n",
    "\n",
    "# print(l)"
   ]
  },
  {
   "cell_type": "markdown",
   "id": "bd17a829-de6a-440c-8714-c7f795ce0446",
   "metadata": {},
   "source": [
    "Q8. Write a python program to check whether a given number is Palindrome or not using a while loop."
   ]
  },
  {
   "cell_type": "code",
   "execution_count": 45,
   "id": "b34133a2-dc57-4e1e-8555-e4884eda6c60",
   "metadata": {},
   "outputs": [
    {
     "name": "stdin",
     "output_type": "stream",
     "text": [
      "Please give a number :  12321\n"
     ]
    },
    {
     "name": "stdout",
     "output_type": "stream",
     "text": [
      "Given number is a palindrome\n"
     ]
    }
   ],
   "source": [
    "n = int(input(\"Please give a number : \"))\n",
    "def reverse(num):\n",
    "    if num<10:\n",
    "      return num \n",
    "    else:\n",
    "      return int(str(num%10) + str(reverse(num//10)))\n",
    "def isPalindrome(num):\n",
    "    if num == reverse(num):\n",
    "        return 1\n",
    "    return 0\n",
    "if isPalindrome(n) == 1:\n",
    "    print(\"Given number is a palindrome\")\n",
    "else:\n",
    "    print(\"Given number is a not palindrome\") "
   ]
  },
  {
   "cell_type": "markdown",
   "id": "cc3847c2-2141-4d61-876f-b068a5fbff3e",
   "metadata": {},
   "source": [
    "Q9. Write a code to print odd numbers from 1 to 100 using list comprehension.\n",
    "\n",
    "Note: Use a list comprehension to create a list from 1 to 100 and use another List comprehension to filter\n",
    "out odd numbers."
   ]
  },
  {
   "cell_type": "code",
   "execution_count": 46,
   "id": "91af8a34-1afd-4949-b521-966bf94ec3ea",
   "metadata": {},
   "outputs": [
    {
     "name": "stdout",
     "output_type": "stream",
     "text": [
      "[1, 3, 5, 7, 9, 11, 13, 15, 17, 19, 21, 23, 25, 27, 29, 31, 33, 35, 37, 39, 41, 43, 45, 47, 49, 51, 53, 55, 57, 59, 61, 63, 65, 67, 69, 71, 73, 75, 77, 79, 81, 83, 85, 87, 89, 91, 93, 95, 97, 99]\n"
     ]
    }
   ],
   "source": [
    "l = [odd for odd in range(1,100) if odd%2!=0]\n",
    "print(l)"
   ]
  },
  {
   "cell_type": "code",
   "execution_count": null,
   "id": "8f45ac59-5087-4686-8f43-1b9006e4ec88",
   "metadata": {},
   "outputs": [],
   "source": []
  }
 ],
 "metadata": {
  "kernelspec": {
   "display_name": "Python 3 (ipykernel)",
   "language": "python",
   "name": "python3"
  },
  "language_info": {
   "codemirror_mode": {
    "name": "ipython",
    "version": 3
   },
   "file_extension": ".py",
   "mimetype": "text/x-python",
   "name": "python",
   "nbconvert_exporter": "python",
   "pygments_lexer": "ipython3",
   "version": "3.10.8"
  }
 },
 "nbformat": 4,
 "nbformat_minor": 5
}
