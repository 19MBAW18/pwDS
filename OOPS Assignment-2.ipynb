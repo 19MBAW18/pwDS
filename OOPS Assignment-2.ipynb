{
 "cells": [
  {
   "cell_type": "markdown",
   "id": "fe59d0cc-ad04-4a9f-90b4-bd194a64c01a",
   "metadata": {},
   "source": [
    "Q1. What is Abstraction in OOps? Explain with an example."
   ]
  },
  {
   "cell_type": "raw",
   "id": "1cb60ea1-28b0-4705-ac46-78ade352fea2",
   "metadata": {},
   "source": [
    "Abstraction in OOPs is a concept that focuses on representing the essential characteristics and behaviors of an object while hiding unnecessary details. It allows us to create models or representations of real-world entities in a simplified and generalized manner. Abstraction is achieved through the use of abstract classes and interfaces.\n",
    "Abstract methods are declared without an implementation and must be overridden by the derived classes."
   ]
  },
  {
   "cell_type": "code",
   "execution_count": 5,
   "id": "62cc4a8c-5542-41b8-8fe1-76f2189c7f59",
   "metadata": {},
   "outputs": [],
   "source": [
    "import abc\n",
    "\n",
    "class Animal():\n",
    "    \n",
    "    @abc.abstractmethod\n",
    "    def sound(self):\n",
    "        pass\n",
    "\n",
    "    @abc.abstractmethod\n",
    "    def eat(self):\n",
    "        pass\n",
    "\n",
    "class Dog(Animal):\n",
    "    def sound(self):\n",
    "        print(\"Bark\")\n",
    "\n",
    "    def eat(self):\n",
    "        print(\"Eating bones\")\n",
    "\n",
    "class Cat(Animal):\n",
    "    def sound(self):\n",
    "        print(\"Meow\")\n",
    "\n",
    "    def eat(self):\n",
    "        print(\"Eating fish\")"
   ]
  },
  {
   "cell_type": "code",
   "execution_count": 6,
   "id": "02c46bb4-d254-44aa-be0b-b44b5ac791b3",
   "metadata": {},
   "outputs": [
    {
     "name": "stdout",
     "output_type": "stream",
     "text": [
      "Bark\n",
      "Eating bones\n",
      "Meow\n",
      "Eating fish\n"
     ]
    }
   ],
   "source": [
    "dog = Dog()\n",
    "cat = Cat()\n",
    "\n",
    "dog.sound() \n",
    "dog.eat()   \n",
    "\n",
    "cat.sound() \n",
    "cat.eat()  "
   ]
  },
  {
   "cell_type": "markdown",
   "id": "6f8dad3f-e969-4b2d-b98b-01df2d760ce6",
   "metadata": {},
   "source": [
    "Q2. Differentiate between Abstraction and Encapsulation. Explain with an example."
   ]
  },
  {
   "cell_type": "raw",
   "id": "e72a9e7e-51c0-4be3-a5ca-5ad3af3ab31f",
   "metadata": {},
   "source": [
    "Abstraction focuses on providing a simplified and generalized view of objects, while encapsulation focuses on bundling data and methods together and controlling access to the internal state of an object. Both concepts contribute to creating well-organized, maintainable, and secure code in object-oriented programming."
   ]
  },
  {
   "cell_type": "code",
   "execution_count": 16,
   "id": "eaf1d8de-265f-4bc1-bf78-1caff6d731f9",
   "metadata": {},
   "outputs": [],
   "source": [
    "class BankAccount:\n",
    "    def __init__(self, account_number, balance):\n",
    "        self.account_number = account_number\n",
    "        self.balance = balance\n",
    "\n",
    "    def deposit(self, amount):\n",
    "        self.balance += amount\n",
    "\n",
    "    def withdraw(self, amount):\n",
    "        if self.balance >= amount:\n",
    "            self.balance -= amount\n",
    "        else:\n",
    "            print(\"Insufficient balance.\")\n",
    "\n",
    "    def get_balance(self):\n",
    "        return self.balance"
   ]
  },
  {
   "cell_type": "code",
   "execution_count": 17,
   "id": "5b8ee5ad-58df-4f14-b3c0-2a854b241652",
   "metadata": {},
   "outputs": [],
   "source": [
    "account = BankAccount(\"123456789\", 1000)"
   ]
  },
  {
   "cell_type": "code",
   "execution_count": 18,
   "id": "9286a4dc-7f03-4c90-b55a-4516f7ade9ef",
   "metadata": {},
   "outputs": [
    {
     "data": {
      "text/plain": [
       "1500"
      ]
     },
     "execution_count": 18,
     "metadata": {},
     "output_type": "execute_result"
    }
   ],
   "source": [
    "account.deposit(500)\n",
    "account.get_balance()"
   ]
  },
  {
   "cell_type": "code",
   "execution_count": 20,
   "id": "1d2c8ba7-0fe8-4ced-be46-73d4393c1942",
   "metadata": {},
   "outputs": [
    {
     "data": {
      "text/plain": [
       "1100"
      ]
     },
     "execution_count": 20,
     "metadata": {},
     "output_type": "execute_result"
    }
   ],
   "source": [
    "account.withdraw(200)\n",
    "account.get_balance()"
   ]
  },
  {
   "cell_type": "markdown",
   "id": "8f9262c0-4367-4a3f-a72d-c2f6d95fb306",
   "metadata": {},
   "source": [
    "Q3. What is abc module in python? Why is it used?"
   ]
  },
  {
   "cell_type": "raw",
   "id": "61e6e0bf-0ebc-4dc1-beb1-8684f35f481b",
   "metadata": {},
   "source": [
    "In Python, the abc module stands for \"Abstract Base Classes.\" It provides infrastructure for creating abstract base classes, which are classes that cannot be instantiated themselves but serve as a blueprint for derived classes. The abc module provides the ABC class and the abstractmethod decorator, which are used to define and enforce abstract methods.\n",
    "\n",
    "The abc module is used for the following reasons:\n",
    "\n",
    "Creating Abstract Base Classes: The abc module provides the ABC class, which can be subclassed to create abstract base classes. By inheriting from ABC, a class can be defined as abstract, meaning it cannot be instantiated directly.\n",
    "\n",
    "Defining Abstract Methods: The abstractmethod decorator provided by the abc module is used to mark methods as abstract.\n",
    "\n",
    "Enforcing Method Implementation"
   ]
  },
  {
   "cell_type": "markdown",
   "id": "e7e08504-4c3f-4d64-bac0-1a86c2005db8",
   "metadata": {},
   "source": [
    "Q4. How can we achieve data abstraction?"
   ]
  },
  {
   "cell_type": "raw",
   "id": "f91a3d54-eb9a-415b-b9e4-85de88d013ea",
   "metadata": {},
   "source": [
    "Data abstraction in Python can be achieved through the use of classes and objects. Here are the steps to achieve data abstraction:\n",
    "\n",
    "Define a Class: Create a class that represents the abstract concept or entity you want to model.\n",
    "\n",
    "Hide Implementation Details: Encapsulate the data attributes by making them private or protected. In Python, this is conventionally done by prefixing the attribute name with an underscore (_) or double underscores.\n",
    "\n",
    "Provide Accessors and Mutators: Define public methods, known as accessors and mutators (or getters and setters), to provide controlled access to the private or protected attributes. Accessor methods allow you to retrieve the values of the attributes, while mutator methods allow you to modify the attribute values in a controlled manner."
   ]
  },
  {
   "cell_type": "markdown",
   "id": "aa823c74-97aa-4cd2-a188-958ee9f41bcf",
   "metadata": {},
   "source": [
    "Q5. Can we create an instance of an abstract class? Explain your answer."
   ]
  },
  {
   "cell_type": "raw",
   "id": "aea82640-9fe1-4506-abb9-63151680b7a8",
   "metadata": {},
   "source": [
    "No, we cannot create an instance of an abstract class in Python. Abstract classes are designed to serve as blueprints or templates for other classes to inherit from. They are meant to be subclassed, and their primary purpose is to define a common interface or behavior that derived classes should adhere to.\n",
    "\n",
    "Abstract classes in Python are created using the abc module's ABC class as the base class, and they often include one or more abstract methods declared using the abstractmethod decorator."
   ]
  },
  {
   "cell_type": "code",
   "execution_count": null,
   "id": "890c7913-56dd-4d6e-a2d5-ba3de40ac62f",
   "metadata": {},
   "outputs": [],
   "source": []
  },
  {
   "cell_type": "code",
   "execution_count": null,
   "id": "edb43817-670f-4836-811e-8a043b3e5602",
   "metadata": {},
   "outputs": [],
   "source": []
  }
 ],
 "metadata": {
  "kernelspec": {
   "display_name": "Python 3 (ipykernel)",
   "language": "python",
   "name": "python3"
  },
  "language_info": {
   "codemirror_mode": {
    "name": "ipython",
    "version": 3
   },
   "file_extension": ".py",
   "mimetype": "text/x-python",
   "name": "python",
   "nbconvert_exporter": "python",
   "pygments_lexer": "ipython3",
   "version": "3.10.8"
  }
 },
 "nbformat": 4,
 "nbformat_minor": 5
}
