{
 "cells": [
  {
   "cell_type": "markdown",
   "id": "a07cea52-ae66-49f4-bd98-bb16c6cfbcd4",
   "metadata": {},
   "source": [
    "Q1. Explain Class and Object with respect to Object-Oriented Programming. Give a suitable example."
   ]
  },
  {
   "cell_type": "raw",
   "id": "5d9aad49-d174-458d-9ee2-c5fe30aa66e6",
   "metadata": {},
   "source": [
    "In OOPs, a class is a blueprint or template that defines the structure and behavior of objects.\n",
    "While individual instances of class are referred to as object."
   ]
  },
  {
   "cell_type": "code",
   "execution_count": 4,
   "id": "ecd064f5-a0dd-444b-99c7-5bed52108b07",
   "metadata": {},
   "outputs": [],
   "source": [
    "class Car: \n",
    "    def __init__(self, colour, brand, model, year):\n",
    "        self.colour = colour\n",
    "        self.brand = brand\n",
    "        self.model = model\n",
    "        self.year = year\n",
    "\n",
    "    def car_details(self):\n",
    "        return  self.brand, self.model, self.colour, self.year "
   ]
  },
  {
   "cell_type": "code",
   "execution_count": 5,
   "id": "3f422d5e-91a7-4f2d-a295-a26b85e86dbe",
   "metadata": {},
   "outputs": [
    {
     "data": {
      "text/plain": [
       "('Honda', 'Prius', 'Red', '2022')"
      ]
     },
     "execution_count": 5,
     "metadata": {},
     "output_type": "execute_result"
    }
   ],
   "source": [
    "c1 = Car(\"Red\", \"Honda\", \"Prius\", \"2022\")\n",
    "c1.car_details()"
   ]
  },
  {
   "cell_type": "code",
   "execution_count": 6,
   "id": "0e52447a-51bb-4b4c-8ab7-ff9033960869",
   "metadata": {},
   "outputs": [
    {
     "data": {
      "text/plain": [
       "'2022'"
      ]
     },
     "execution_count": 6,
     "metadata": {},
     "output_type": "execute_result"
    }
   ],
   "source": [
    "c1.year"
   ]
  },
  {
   "cell_type": "markdown",
   "id": "f214deed-6bbe-4a3e-a017-cdffcc7f332b",
   "metadata": {},
   "source": [
    "Q2. Name the four pillars of OOPs."
   ]
  },
  {
   "cell_type": "raw",
   "id": "c3340fe0-541c-4fb3-a5d2-dae288fcff04",
   "metadata": {},
   "source": [
    "The four pillars of OOPs are- \n",
    "    1. Abstraction\n",
    "    2. Encapsulation \n",
    "    3. Inheritance \n",
    "    4. Polymorphism"
   ]
  },
  {
   "cell_type": "markdown",
   "id": "e7a9b12e-11cc-4487-b158-c91f076ac669",
   "metadata": {},
   "source": [
    "Q3. Explain why the __init__() function is used. Give a suitable example."
   ]
  },
  {
   "cell_type": "raw",
   "id": "b4bea892-0745-4039-9365-d072e607231e",
   "metadata": {},
   "source": [
    "The init() function in python is used as a constructor. The primary purpose of the init() method is to initialize the attributes of an object with specific values."
   ]
  },
  {
   "cell_type": "code",
   "execution_count": 11,
   "id": "a49b8480-4594-4e90-9570-bd669e57ce38",
   "metadata": {},
   "outputs": [],
   "source": [
    "class location:\n",
    "    def __init__(self,office, area, city):\n",
    "        self.office = office\n",
    "        self.area = area \n",
    "        self.city = city\n",
    "\n",
    "    def office_location(self):\n",
    "        return self.office, self.area , self.city"
   ]
  },
  {
   "cell_type": "code",
   "execution_count": 21,
   "id": "678cae34-f2ba-4874-bddd-a32dc60cc64d",
   "metadata": {},
   "outputs": [],
   "source": [
    "office1 = location(\"EXL Services\", \"Near Phase II\", \"Gurgaon\")\n",
    "\n",
    "office2 = location(\"Cambay Consulting\", \"Shamshad Market\", \"Aligarh\")"
   ]
  },
  {
   "cell_type": "code",
   "execution_count": 18,
   "id": "ac2e45d4-4b1b-428f-8ff1-287dc8e6288c",
   "metadata": {},
   "outputs": [
    {
     "data": {
      "text/plain": [
       "('EXL Services', 'Near Phase II', 'Gurgaon')"
      ]
     },
     "execution_count": 18,
     "metadata": {},
     "output_type": "execute_result"
    }
   ],
   "source": [
    "office1.office_location()"
   ]
  },
  {
   "cell_type": "code",
   "execution_count": 23,
   "id": "73110d34-cd52-4464-a626-4cbe833a8862",
   "metadata": {},
   "outputs": [
    {
     "data": {
      "text/plain": [
       "('Cambay Consulting', 'Shamshad Market', 'Aligarh')"
      ]
     },
     "execution_count": 23,
     "metadata": {},
     "output_type": "execute_result"
    }
   ],
   "source": [
    "office2.office_location()"
   ]
  },
  {
   "cell_type": "markdown",
   "id": "f586927b-2edf-4420-93bc-995e350ac799",
   "metadata": {},
   "source": [
    "Q4. Why self is used in OOPs?"
   ]
  },
  {
   "cell_type": "raw",
   "id": "30c7070a-91d4-496e-9905-c544985c2504",
   "metadata": {},
   "source": [
    "The self is used to represent the instance of the class. With this keyword, we can access the attributes and methods of the class in python. It binds the attributes with the given arguments. The reason why we use self is that Python does not use the ‘@’ syntax to refer to instance attributes."
   ]
  },
  {
   "cell_type": "markdown",
   "id": "96c3e13e-386f-4d1b-b3fe-8a35054a2603",
   "metadata": {},
   "source": [
    "Q5. What is inheritance? Give an example for each type of inheritance."
   ]
  },
  {
   "cell_type": "raw",
   "id": "dc4dd974-c341-43e3-93d6-aa09bb916236",
   "metadata": {},
   "source": [
    "Inheritance is a fundamental concept in OOP that allows classes to inherit attributes and methods from other classes. It enables code reuseability and promotes the creation of a hierarchical structure among classes.\n",
    "\n",
    "There are several types of inheritance like - \n",
    "    Single Inheritance\n",
    "    Multiple Inheritance\n",
    "    Multilevel Inheritance\n",
    "    Hierarchical Inheritance"
   ]
  },
  {
   "cell_type": "code",
   "execution_count": 24,
   "id": "a5b2e04b-a5fc-4790-b8af-8d8592e190f1",
   "metadata": {},
   "outputs": [
    {
     "name": "stdout",
     "output_type": "stream",
     "text": [
      "Eating\n",
      "Barking\n"
     ]
    }
   ],
   "source": [
    "# Single inheritance involves a class inheriting from a single base class.\n",
    "\n",
    "class Animal:\n",
    "    def eat(self):\n",
    "        print(\"Eating\")\n",
    "\n",
    "class Dog(Animal):\n",
    "    def bark(self):\n",
    "        print(\"Barking\")\n",
    "\n",
    "dog = Dog()\n",
    "dog.eat() \n",
    "dog.bark()"
   ]
  },
  {
   "cell_type": "code",
   "execution_count": 25,
   "id": "d829dca4-661d-4f8c-a3c5-99324b48da0f",
   "metadata": {},
   "outputs": [
    {
     "name": "stdout",
     "output_type": "stream",
     "text": [
      "Giving birth...\n",
      "Hunting...\n",
      "Roaring...\n"
     ]
    }
   ],
   "source": [
    "# Multiple inheritance allows a class to inherit from multiple base classes. \n",
    "# The derived class inherits attributes and methods from all the base classes\n",
    "\n",
    "class Mammal:\n",
    "    def give_birth(self):\n",
    "        print(\"Giving birth...\")\n",
    "\n",
    "class Carnivore:\n",
    "    def hunt(self):\n",
    "        print(\"Hunting...\")\n",
    "\n",
    "class Lion(Mammal, Carnivore):\n",
    "    def roar(self):\n",
    "        print(\"Roaring...\")\n",
    "\n",
    "lion = Lion()\n",
    "lion.give_birth()\n",
    "lion.hunt()      \n",
    "lion.roar() "
   ]
  },
  {
   "cell_type": "code",
   "execution_count": 26,
   "id": "73638ea2-5fe8-4eb1-b961-c73128bdd7c0",
   "metadata": {},
   "outputs": [
    {
     "name": "stdout",
     "output_type": "stream",
     "text": [
      "Moving...\n",
      "Engine started...\n",
      "Trunk opened...\n"
     ]
    }
   ],
   "source": [
    "# Multilevel inheritance involves deriving a class from a derived class, forming a hierarchy of classes.\n",
    "# Each derived class inherits attributes and methods from its immediate base class.\n",
    "\n",
    "class Vehicle:\n",
    "    def move(self):\n",
    "        print(\"Moving...\")\n",
    "\n",
    "class Car(Vehicle):\n",
    "    def start_engine(self):\n",
    "        print(\"Engine started...\")\n",
    "\n",
    "class Sedan(Car):\n",
    "    def open_trunk(self):\n",
    "        print(\"Trunk opened...\")\n",
    "\n",
    "sedan = Sedan()\n",
    "sedan.move()        \n",
    "sedan.start_engine()\n",
    "sedan.open_trunk()"
   ]
  },
  {
   "cell_type": "code",
   "execution_count": 27,
   "id": "228d7f77-1ba3-471f-81d9-3cef3497a7fe",
   "metadata": {},
   "outputs": [
    {
     "name": "stdout",
     "output_type": "stream",
     "text": [
      "Drawing shape...\n",
      "Calculating area of circle...\n",
      "Drawing shape...\n"
     ]
    }
   ],
   "source": [
    "# Hierarchical inheritance involves multiple derived classes inheriting from a single base class.\n",
    "# Each derived class inherits attributes and methods from the base class\n",
    "\n",
    "class Shape:\n",
    "    def draw(self):\n",
    "        print(\"Drawing shape...\")\n",
    "\n",
    "class Circle(Shape):\n",
    "    def calculate_area(self):\n",
    "        print(\"Calculating area of circle...\")\n",
    "\n",
    "class Square(Shape):\n",
    "    def calculate_area(self):\n",
    "        print(\"Calculating area of square...\")\n",
    "\n",
    "circle = Circle()\n",
    "square = Square()\n",
    "\n",
    "circle.draw()          \n",
    "circle.calculate_area()\n",
    "square.draw()"
   ]
  },
  {
   "cell_type": "code",
   "execution_count": null,
   "id": "39ac4007-986e-41da-9826-6eccebca0c9d",
   "metadata": {},
   "outputs": [],
   "source": []
  }
 ],
 "metadata": {
  "kernelspec": {
   "display_name": "Python 3 (ipykernel)",
   "language": "python",
   "name": "python3"
  },
  "language_info": {
   "codemirror_mode": {
    "name": "ipython",
    "version": 3
   },
   "file_extension": ".py",
   "mimetype": "text/x-python",
   "name": "python",
   "nbconvert_exporter": "python",
   "pygments_lexer": "ipython3",
   "version": "3.10.8"
  }
 },
 "nbformat": 4,
 "nbformat_minor": 5
}
